{
 "cells": [
  {
   "cell_type": "code",
   "execution_count": 8,
   "metadata": {},
   "outputs": [
    {
     "name": "stdout",
     "output_type": "stream",
     "text": [
      "['Mercurio', 'Venus', 'Tierra', 'Marte', 'Jupiter', 'Saturno', 'Urano', 'Neptuno']\n",
      "Numero de planetas 8\n",
      "['Mercurio', 'Venus', 'Tierra', 'Marte', 'Jupiter', 'Saturno', 'Urano', 'Neptuno', 'Pluton']\n",
      "Numero de planetas 9\n",
      "Planetas mas cercanos al sol : ['Mercurio', 'Venus', 'Tierra', 'Marte', 'Jupiter'] \n",
      "Planetas lejanos al sol : ['Urano', 'Neptuno', 'Pluton'] \n"
     ]
    }
   ],
   "source": [
    "planets = ['Mercurio', 'Venus', 'Tierra', 'Marte', 'Jupiter', 'Saturno', 'Urano','Neptuno']\n",
    "\n",
    "print(planets)\n",
    "print(f\"Numero de planetas {str(len(planets))}\")\n",
    "\n",
    "planets.append('Pluton')\n",
    "\n",
    "print(planets)\n",
    "print(f\"Numero de planetas {str(len(planets))}\")\n",
    "\n",
    "\n",
    "planeta = input(\"Nombre del planeta ? \")\n",
    "\n",
    "id_planeta = planets.index(planeta)\n",
    "\n",
    "print( f\"Planetas mas cercanos al sol : {planets[0 : id_planeta]} \")\n",
    "\n",
    "print( f\"Planetas lejanos al sol : {planets[id_planeta +1 : ]} \")"
   ]
  }
 ],
 "metadata": {
  "interpreter": {
   "hash": "fb8beb219bf3e2d524af6c487222421f1936785dec980183315211f9f26e2046"
  },
  "kernelspec": {
   "display_name": "Python 3.10.0 64-bit",
   "language": "python",
   "name": "python3"
  },
  "language_info": {
   "codemirror_mode": {
    "name": "ipython",
    "version": 3
   },
   "file_extension": ".py",
   "mimetype": "text/x-python",
   "name": "python",
   "nbconvert_exporter": "python",
   "pygments_lexer": "ipython3",
   "version": "3.10.0"
  },
  "orig_nbformat": 4
 },
 "nbformat": 4,
 "nbformat_minor": 2
}
