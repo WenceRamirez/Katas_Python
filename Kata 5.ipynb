{
 "cells": [
  {
   "cell_type": "code",
   "execution_count": 11,
   "metadata": {},
   "outputs": [
    {
     "name": "stdout",
     "output_type": "stream",
     "text": [
      "390577534\n",
      "628949330\n"
     ]
    }
   ],
   "source": [
    "Dist_Tierra =  149597870\n",
    "Dist_Jupiter = 778547200\n",
    "\n",
    "DistTierra_Millas = Dist_Tierra * .621\n",
    "DistJupiter_Millas = Dist_Jupiter * .621\n",
    "\n",
    "\n",
    "DisTierraJupiterMI = round(DistTierra_Millas - DistJupiter_Millas)\n",
    "DisTierraJupiterKM = round(Dist_Tierra - Dist_Jupiter)\n",
    "\n",
    "print(str(abs(DisTierraJupiterMI)))\n",
    "print(str(abs(DisTierraJupiterKM)))"
   ]
  },
  {
   "cell_type": "code",
   "execution_count": 12,
   "metadata": {},
   "outputs": [
    {
     "name": "stdout",
     "output_type": "stream",
     "text": [
      "3716500000 KM\n",
      "2307946500.0 Millas\n"
     ]
    }
   ],
   "source": [
    "Dist_Planeta1 = input(\"Distancia del primer planeta en KM ?\")\n",
    "Dist_Planeta2 = input(\"Distancia del Segundo planeta en KM ?\")\n",
    "\n",
    "Dist = int(Dist_Planeta1) - int(Dist_Planeta2)\n",
    "\n",
    "print(f\"{str(Dist)} KM\" )\n",
    "\n",
    "Dist_Tota =  abs( int(Dist) * .621)\n",
    "\n",
    "print(f\"{str(Dist_Tota)} Millas\" )"
   ]
  }
 ],
 "metadata": {
  "interpreter": {
   "hash": "fb8beb219bf3e2d524af6c487222421f1936785dec980183315211f9f26e2046"
  },
  "kernelspec": {
   "display_name": "Python 3.10.0 64-bit",
   "language": "python",
   "name": "python3"
  },
  "language_info": {
   "codemirror_mode": {
    "name": "ipython",
    "version": 3
   },
   "file_extension": ".py",
   "mimetype": "text/x-python",
   "name": "python",
   "nbconvert_exporter": "python",
   "pygments_lexer": "ipython3",
   "version": "3.10.0"
  },
  "orig_nbformat": 4
 },
 "nbformat": 4,
 "nbformat_minor": 2
}
