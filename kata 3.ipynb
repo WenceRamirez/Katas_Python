{
 "cells": [
  {
   "cell_type": "code",
   "execution_count": 30,
   "metadata": {},
   "outputs": [
    {
     "name": "stdout",
     "output_type": "stream",
     "text": [
      "No hay peligro el asteroide va a una velocidad de : 23 km/s\n"
     ]
    }
   ],
   "source": [
    "Vel_Asteroide = 23\n",
    "\n",
    "if Vel_Asteroide > 25:\n",
    "    print(\"Advertencia el asteroide aumento su velocidad a : \"+str(Vel_Asteroide)+\" km/s.\")\n",
    "else:\n",
    "    print(\"No hay peligro el asteroide va a una velocidad de : \" + str(Vel_Asteroide) + \" km/s\")"
   ]
  },
  {
   "cell_type": "code",
   "execution_count": 31,
   "metadata": {},
   "outputs": [
    {
     "name": "stdout",
     "output_type": "stream",
     "text": [
      "Terricolas, busquen en el cielo un rayo de luz.\n"
     ]
    }
   ],
   "source": [
    "Vel_AsteroideTierra = 23\n",
    "\n",
    "if Vel_AsteroideTierra >= 20:\n",
    "    print(\"Terricolas, busquen en el cielo un rayo de luz.\")\n",
    "else:\n",
    "    print(\"Asteroide no sera visible desde la tierra.\")"
   ]
  },
  {
   "cell_type": "code",
   "execution_count": 32,
   "metadata": {},
   "outputs": [
    {
     "name": "stdout",
     "output_type": "stream",
     "text": [
      "Asteroide posiblemente se desintegrara en la atmosfera de la tierra.\n"
     ]
    }
   ],
   "source": [
    "Vel_Asteroide = 45\n",
    "Tam_Ateroide = 23\n",
    "\n",
    "\n",
    "if Tam_Ateroide < 25:\n",
    "    print(\"Asteroide posiblemente se desintegrara en la atmosfera de la tierra.\")\n",
    "elif Tam_Ateroide > 25 and Vel_Asteroide > 25:\n",
    "    print(\"Peligro de daños catastroficos en la tierra.\")\n",
    "elif Vel_Asteroide >= 20:\n",
    "    print(\"Terricolas, busquen en el cielo un rayo de luz.\")\n"
   ]
  }
 ],
 "metadata": {
  "interpreter": {
   "hash": "fb8beb219bf3e2d524af6c487222421f1936785dec980183315211f9f26e2046"
  },
  "kernelspec": {
   "display_name": "Python 3.10.0 64-bit",
   "language": "python",
   "name": "python3"
  },
  "language_info": {
   "codemirror_mode": {
    "name": "ipython",
    "version": 3
   },
   "file_extension": ".py",
   "mimetype": "text/x-python",
   "name": "python",
   "nbconvert_exporter": "python",
   "pygments_lexer": "ipython3",
   "version": "3.10.0"
  },
  "orig_nbformat": 4
 },
 "nbformat": 4,
 "nbformat_minor": 2
}
