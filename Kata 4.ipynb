{
 "cells": [
  {
   "cell_type": "code",
   "execution_count": 49,
   "metadata": {},
   "outputs": [
    {
     "name": "stdout",
     "output_type": "stream",
     "text": [
      " \n",
      "On average, the Moon moves 4cm away from the Earth every year\n",
      " The highest daylight \n",
      "temperature of the Moon is 127 Celsius\n",
      "----------------------------------------\n",
      " \n",
      "On average, the Moon moves 4cm away from the Earth every year\n",
      " The highest daylight \n",
      "temperature of the Moon is 127 Celsius\n"
     ]
    }
   ],
   "source": [
    "text = \"\"\"Interesting facts about the Moon. The Moon is Earth's only satellite. There are several interesting facts about the Moon and how it affects life here on Earth. \n",
    "On average, the Moon moves 4cm away from the Earth every year. This yearly drift is not significant enough to cause immediate effects on Earth. The highest daylight \n",
    "temperature of the Moon is 127 C.\"\"\"\n",
    "line = \"\"\n",
    "\n",
    "Oraciones = text.split(\".\")\n",
    "\n",
    "palabras = [\"average\", \"temperature\", \"distance\"]\n",
    "\n",
    "for oracion in Oraciones:\n",
    "    for palabra in palabras:\n",
    "        if oracion.find(palabra) > -1:\n",
    "            print(oracion.replace('C', 'Celsius'))\n",
    "\n",
    "for i in range(40):\n",
    "    line = line + \"-\"\n",
    "print(line)\n",
    "\n",
    "for oracion in Oraciones:\n",
    "    if(oracion.find(\"moon\".title()) > -1):\n",
    "        for palabra in palabras:\n",
    "            if oracion.find(palabra) > -1:\n",
    "                print(oracion.replace('C', 'Celsius'))\n",
    "\n",
    "\n"
   ]
  },
  {
   "cell_type": "code",
   "execution_count": 50,
   "metadata": {},
   "outputs": [
    {
     "name": "stdout",
     "output_type": "stream",
     "text": [
      " Gravity Facts About  Moon\n",
      "----------------------------------------\n",
      "Planet Name: Earth\n",
      "'Gravity on : 1.6199999999999999 m/s\n",
      "'Name : Moon \n"
     ]
    }
   ],
   "source": [
    "# Datos con los que vas a trabajar\n",
    "name = \"Moon\"\n",
    "gravity = 0.00162 # in kms\n",
    "planet = \"Earth\"\n",
    "\n",
    "title = f\"Gravity Facts about  {name}\"\n",
    "\n",
    "line = \"\"\n",
    "for i in range(40):\n",
    "    line = line + \"-\"\n",
    "\n",
    "msquare = gravity * 1000\n",
    "\n",
    "hechos =f\"\"\"Planet Name: {planet}\n",
    "'Gravity on : {msquare} m/s\n",
    "'Name : {name}\"\"\"\n",
    "\n",
    "print(f\"\"\" {title.title()}\n",
    "{line}\n",
    "{hechos} \"\"\")"
   ]
  },
  {
   "cell_type": "code",
   "execution_count": 51,
   "metadata": {},
   "outputs": [
    {
     "name": "stdout",
     "output_type": "stream",
     "text": [
      "\n",
      "     Gravity Facts About  Ganímedes \n",
      "    ----------------------------------------\n",
      "    Planet Name: Marte\n",
      "    'Gravity on : 1.4300000000000002 m/s\n",
      "    'Name : Ganímedes \n",
      "\n"
     ]
    }
   ],
   "source": [
    "# Datos con los que vas a trabajar\n",
    "name = \"Ganímedes \"\n",
    "gravity = 0.00143 # in kms\n",
    "planet = \"Marte\"\n",
    "\n",
    "title = f\"Gravity Facts about  {name}\"\n",
    "\n",
    "line = \"\"\n",
    "for i in range(40):\n",
    "    line = line + \"-\"\n",
    "\n",
    "msquare = gravity * 1000\n",
    "\n",
    "plantilla =\"\"\"\n",
    "     Gravity Facts About  {name}\n",
    "    ----------------------------------------\n",
    "    Planet Name: {planet}\n",
    "    'Gravity on : {gravedad} m/s\n",
    "    'Name : {name}\n",
    "\"\"\"\n",
    "\n",
    "print(plantilla.format(name=name, planet=planet, gravedad=msquare))"
   ]
  }
 ],
 "metadata": {
  "interpreter": {
   "hash": "fb8beb219bf3e2d524af6c487222421f1936785dec980183315211f9f26e2046"
  },
  "kernelspec": {
   "display_name": "Python 3.10.0 64-bit",
   "language": "python",
   "name": "python3"
  },
  "language_info": {
   "codemirror_mode": {
    "name": "ipython",
    "version": 3
   },
   "file_extension": ".py",
   "mimetype": "text/x-python",
   "name": "python",
   "nbconvert_exporter": "python",
   "pygments_lexer": "ipython3",
   "version": "3.10.0"
  },
  "orig_nbformat": 4
 },
 "nbformat": 4,
 "nbformat_minor": 2
}
