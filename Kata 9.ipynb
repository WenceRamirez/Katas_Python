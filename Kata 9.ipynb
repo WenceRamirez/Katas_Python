{
 "cells": [
  {
   "cell_type": "code",
   "execution_count": 44,
   "metadata": {},
   "outputs": [
    {
     "name": "stdout",
     "output_type": "stream",
     "text": [
      "Reporte :\n",
      "    Promedio  = 11.333333333333334 %\n",
      "    \n"
     ]
    }
   ],
   "source": [
    "def Informes(Comb1, Comb2, Comb3):\n",
    "    promedio = Promedio([Comb1, Comb2, Comb3])\n",
    "    print(f\"\"\"Reporte :\n",
    "    Promedio  = {str(promedio)} %\n",
    "    \"\"\")\n",
    "\n",
    "def Promedio(values):\n",
    "    return str(sum (values) / len(values))\n",
    "\n",
    "Informes(12,12,10)"
   ]
  },
  {
   "cell_type": "code",
   "execution_count": 45,
   "metadata": {},
   "outputs": [
    {
     "name": "stdout",
     "output_type": "stream",
     "text": [
      "Reporte :\n",
      "    Hora Prelanzamiento  = 12:34:00\n",
      "    Tiempo Vuelo  = 23 Horas\n",
      "    Destino  = Saturno\n",
      "    Tanque Externo  = 30 %\n",
      "    Tanque Interno  = 20 %\n",
      "    \n",
      "\n",
      "    Mision a Moon\n",
      "    Total Minutos: 40 minutes\n",
      "    Total combustible: 500000\n",
      "    \n"
     ]
    }
   ],
   "source": [
    "def Informes(Hora_Prelanzamiento,Tiempo_Vuelo, Destino, Tanque_Externo,Tanque_Interno):\n",
    "    \n",
    "    print(f\"\"\"Reporte :\n",
    "    Hora Prelanzamiento  = {Hora_Prelanzamiento}\n",
    "    Tiempo Vuelo  = {Tiempo_Vuelo} Horas\n",
    "    Destino  = {Destino}\n",
    "    Tanque Externo  = {Tanque_Externo} %\n",
    "    Tanque Interno  = {Tanque_Interno} %\n",
    "    \"\"\")\n",
    "\n",
    "\n",
    "Informes( Hora_Prelanzamiento='12:34:00' , Tiempo_Vuelo= 23,  Destino='Saturno', Tanque_Externo='30', Tanque_Interno='20')\n",
    "\n",
    "def mission_report(destination, *minutes, **combustible):\n",
    "    return f\"\"\"\n",
    "    Mision a {destination}\n",
    "    Total Minutos: {sum(minutes)} minutes\n",
    "    Total combustible: {sum(combustible.values())}\n",
    "    \"\"\"\n",
    "\n",
    "print(mission_report(\"Moon\", 10, 10, 10,10, main=300000, external=200000))"
   ]
  },
  {
   "cell_type": "code",
   "execution_count": 52,
   "metadata": {},
   "outputs": [
    {
     "name": "stdout",
     "output_type": "stream",
     "text": [
      "\n",
      "    Mision a Moon\n",
      "    Total Minutos: 74 Min\n",
      "    Total Combustible: 500000\n",
      "    main tank  300000 gallons left\n",
      "external tank  200000 gallons left\n",
      "\n"
     ]
    }
   ],
   "source": [
    "def mission_report(destination, *minutes, **fuel_reservoirs):\n",
    "    main_report = f\"\"\"\n",
    "    Mision a {destination}\n",
    "    Total Minutos: {sum(minutes)} Min\n",
    "    Total Combustible: {sum(fuel_reservoirs.values())}\n",
    "    \"\"\"\n",
    "    for tank_name, gallons in fuel_reservoirs.items():\n",
    "        main_report += f\"{tank_name} tank  {gallons} gallons left\\n\"\n",
    "    return main_report\n",
    "\n",
    "print(mission_report(\"Moon\", 8, 11, 55, main=300000, external=200000))"
   ]
  },
  {
   "cell_type": "markdown",
   "metadata": {},
   "source": []
  }
 ],
 "metadata": {
  "interpreter": {
   "hash": "fb8beb219bf3e2d524af6c487222421f1936785dec980183315211f9f26e2046"
  },
  "kernelspec": {
   "display_name": "Python 3.10.0 64-bit",
   "language": "python",
   "name": "python3"
  },
  "language_info": {
   "codemirror_mode": {
    "name": "ipython",
    "version": 3
   },
   "file_extension": ".py",
   "mimetype": "text/x-python",
   "name": "python",
   "nbconvert_exporter": "python",
   "pygments_lexer": "ipython3",
   "version": "3.10.0"
  },
  "orig_nbformat": 4
 },
 "nbformat": 4,
 "nbformat_minor": 2
}
